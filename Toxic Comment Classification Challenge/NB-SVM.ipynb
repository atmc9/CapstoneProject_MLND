{
 "cells": [
  {
   "cell_type": "code",
   "execution_count": 1,
   "metadata": {
    "collapsed": true
   },
   "outputs": [],
   "source": [
    "import numpy as np # linear algebra\n",
    "import pandas as pd # data processing, CSV file I/O (e.g. pd.read_csv)\n",
    "\n",
    "from sklearn.feature_extraction.text import TfidfVectorizer, CountVectorizer\n",
    "from sklearn.model_selection import train_test_split\n",
    "from scipy.sparse import hstack\n",
    "from sklearn.linear_model import LogisticRegression\n",
    "from sklearn import metrics"
   ]
  },
  {
   "cell_type": "code",
   "execution_count": 2,
   "metadata": {},
   "outputs": [],
   "source": [
    "train = pd.read_csv('input/train.csv')[:10000]\n",
    "test = pd.read_csv('input/test.csv')[:10000]\n",
    "sample = pd.read_csv('input/sample_submission.csv')[:10000]"
   ]
  },
  {
   "cell_type": "code",
   "execution_count": 3,
   "metadata": {},
   "outputs": [
    {
     "data": {
      "text/html": [
       "<div>\n",
       "<style>\n",
       "    .dataframe thead tr:only-child th {\n",
       "        text-align: right;\n",
       "    }\n",
       "\n",
       "    .dataframe thead th {\n",
       "        text-align: left;\n",
       "    }\n",
       "\n",
       "    .dataframe tbody tr th {\n",
       "        vertical-align: top;\n",
       "    }\n",
       "</style>\n",
       "<table border=\"1\" class=\"dataframe\">\n",
       "  <thead>\n",
       "    <tr style=\"text-align: right;\">\n",
       "      <th></th>\n",
       "      <th>id</th>\n",
       "      <th>comment_text</th>\n",
       "      <th>toxic</th>\n",
       "      <th>severe_toxic</th>\n",
       "      <th>obscene</th>\n",
       "      <th>threat</th>\n",
       "      <th>insult</th>\n",
       "      <th>identity_hate</th>\n",
       "    </tr>\n",
       "  </thead>\n",
       "  <tbody>\n",
       "    <tr>\n",
       "      <th>0</th>\n",
       "      <td>0000997932d777bf</td>\n",
       "      <td>Explanation\\nWhy the edits made under my usern...</td>\n",
       "      <td>0</td>\n",
       "      <td>0</td>\n",
       "      <td>0</td>\n",
       "      <td>0</td>\n",
       "      <td>0</td>\n",
       "      <td>0</td>\n",
       "    </tr>\n",
       "    <tr>\n",
       "      <th>1</th>\n",
       "      <td>000103f0d9cfb60f</td>\n",
       "      <td>D'aww! He matches this background colour I'm s...</td>\n",
       "      <td>0</td>\n",
       "      <td>0</td>\n",
       "      <td>0</td>\n",
       "      <td>0</td>\n",
       "      <td>0</td>\n",
       "      <td>0</td>\n",
       "    </tr>\n",
       "    <tr>\n",
       "      <th>2</th>\n",
       "      <td>000113f07ec002fd</td>\n",
       "      <td>Hey man, I'm really not trying to edit war. It...</td>\n",
       "      <td>0</td>\n",
       "      <td>0</td>\n",
       "      <td>0</td>\n",
       "      <td>0</td>\n",
       "      <td>0</td>\n",
       "      <td>0</td>\n",
       "    </tr>\n",
       "    <tr>\n",
       "      <th>3</th>\n",
       "      <td>0001b41b1c6bb37e</td>\n",
       "      <td>\"\\nMore\\nI can't make any real suggestions on ...</td>\n",
       "      <td>0</td>\n",
       "      <td>0</td>\n",
       "      <td>0</td>\n",
       "      <td>0</td>\n",
       "      <td>0</td>\n",
       "      <td>0</td>\n",
       "    </tr>\n",
       "    <tr>\n",
       "      <th>4</th>\n",
       "      <td>0001d958c54c6e35</td>\n",
       "      <td>You, sir, are my hero. Any chance you remember...</td>\n",
       "      <td>0</td>\n",
       "      <td>0</td>\n",
       "      <td>0</td>\n",
       "      <td>0</td>\n",
       "      <td>0</td>\n",
       "      <td>0</td>\n",
       "    </tr>\n",
       "  </tbody>\n",
       "</table>\n",
       "</div>"
      ],
      "text/plain": [
       "                 id                                       comment_text  toxic  \\\n",
       "0  0000997932d777bf  Explanation\\nWhy the edits made under my usern...      0   \n",
       "1  000103f0d9cfb60f  D'aww! He matches this background colour I'm s...      0   \n",
       "2  000113f07ec002fd  Hey man, I'm really not trying to edit war. It...      0   \n",
       "3  0001b41b1c6bb37e  \"\\nMore\\nI can't make any real suggestions on ...      0   \n",
       "4  0001d958c54c6e35  You, sir, are my hero. Any chance you remember...      0   \n",
       "\n",
       "   severe_toxic  obscene  threat  insult  identity_hate  \n",
       "0             0        0       0       0              0  \n",
       "1             0        0       0       0              0  \n",
       "2             0        0       0       0              0  \n",
       "3             0        0       0       0              0  \n",
       "4             0        0       0       0              0  "
      ]
     },
     "execution_count": 3,
     "metadata": {},
     "output_type": "execute_result"
    }
   ],
   "source": [
    "train.head()\n"
   ]
  },
  {
   "cell_type": "code",
   "execution_count": 4,
   "metadata": {},
   "outputs": [],
   "source": [
    "import warnings\n",
    "warnings.simplefilter(\"ignore\", UserWarning)"
   ]
  },
  {
   "cell_type": "code",
   "execution_count": 5,
   "metadata": {},
   "outputs": [],
   "source": [
    "train['comment_text'] = train['comment_text'].fillna('__nocomment__')\n",
    "test['comment_text']  = test['comment_text'].fillna('__nocomment__')\n",
    "\n",
    "train['comment_text'] = train['comment_text'].map(lambda x : x.lower())\n",
    "test['comment_text'] = test['comment_text'].map(lambda x : x.lower())"
   ]
  },
  {
   "cell_type": "code",
   "execution_count": 6,
   "metadata": {},
   "outputs": [],
   "source": [
    "def customAuc(yActual, yPred):\n",
    "    fpr, tpr, __ = metrics.roc_curve(yActual, yPred)\n",
    "    auc          = metrics.auc(fpr, tpr)\n",
    "    return auc\n",
    "\n",
    "\n",
    "columnList = ['toxic', 'severe_toxic', 'obscene', 'threat', 'insult', 'identity_hate']\n",
    "\n",
    "xTrain, xValid, yTrain, yValid = train_test_split(train.comment_text.values, train[columnList],\n",
    "                                                  random_state=42, test_size=0.3, shuffle=True)\n"
   ]
  },
  {
   "cell_type": "code",
   "execution_count": 7,
   "metadata": {},
   "outputs": [],
   "source": [
    "#Building Basic Models\n",
    "#TFIDF Text Vectorizer\n",
    "tfv = TfidfVectorizer(min_df=3,  max_features=20000, strip_accents='unicode', analyzer='word',token_pattern=r'\\w{1,}',\n",
    "                      ngram_range=(1, 3), use_idf=1,smooth_idf=1,sublinear_tf=1, stop_words = 'english')\n",
    "cfv = TfidfVectorizer(min_df=3,  max_features=50000, strip_accents='unicode', analyzer='char',token_pattern=r'\\w{1,}',\n",
    "                      ngram_range=(2, 4), use_idf=1,smooth_idf=1,sublinear_tf=1, stop_words = 'english')\n"
   ]
  },
  {
   "cell_type": "code",
   "execution_count": 8,
   "metadata": {},
   "outputs": [
    {
     "data": {
      "text/plain": [
       "TfidfVectorizer(analyzer='word', binary=False, decode_error='strict',\n",
       "        dtype=<class 'numpy.int64'>, encoding='utf-8', input='content',\n",
       "        lowercase=True, max_df=1.0, max_features=20000, min_df=3,\n",
       "        ngram_range=(1, 3), norm='l2', preprocessor=None, smooth_idf=1,\n",
       "        stop_words='english', strip_accents='unicode', sublinear_tf=1,\n",
       "        token_pattern='\\\\w{1,}', tokenizer=None, use_idf=1,\n",
       "        vocabulary=None)"
      ]
     },
     "execution_count": 8,
     "metadata": {},
     "output_type": "execute_result"
    }
   ],
   "source": [
    "train_text = train['comment_text']\n",
    "test_text = test['comment_text']\n",
    "all_text = pd.concat([train_text, test_text])\n",
    "\n",
    "#tfv.fit(list(xTrain) + list(xValid))\n",
    "tfv.fit(all_text)\n",
    "#cfv.fit(all_text)\n"
   ]
  },
  {
   "cell_type": "code",
   "execution_count": 9,
   "metadata": {},
   "outputs": [
    {
     "data": {
      "text/plain": [
       "0    6331\n",
       "1     669\n",
       "Name: toxic, dtype: int64"
      ]
     },
     "metadata": {},
     "output_type": "display_data"
    },
    {
     "data": {
      "text/plain": [
       "0    6928\n",
       "1      72\n",
       "Name: severe_toxic, dtype: int64"
      ]
     },
     "metadata": {},
     "output_type": "display_data"
    },
    {
     "data": {
      "text/plain": [
       "0    6618\n",
       "1     382\n",
       "Name: obscene, dtype: int64"
      ]
     },
     "metadata": {},
     "output_type": "display_data"
    },
    {
     "data": {
      "text/plain": [
       "0    6976\n",
       "1      24\n",
       "Name: threat, dtype: int64"
      ]
     },
     "metadata": {},
     "output_type": "display_data"
    },
    {
     "data": {
      "text/plain": [
       "0    6648\n",
       "1     352\n",
       "Name: insult, dtype: int64"
      ]
     },
     "metadata": {},
     "output_type": "display_data"
    },
    {
     "data": {
      "text/plain": [
       "0    6931\n",
       "1      69\n",
       "Name: identity_hate, dtype: int64"
      ]
     },
     "metadata": {},
     "output_type": "display_data"
    }
   ],
   "source": [
    "yTrain.head()\n",
    "\n",
    "display(yTrain.toxic.value_counts())\n",
    "display(yTrain.severe_toxic.value_counts())\n",
    "display(yTrain.obscene.value_counts())\n",
    "display(yTrain.threat.value_counts())\n",
    "display(yTrain.insult.value_counts())\n",
    "display(yTrain.identity_hate.value_counts())\n"
   ]
  },
  {
   "cell_type": "code",
   "execution_count": 10,
   "metadata": {},
   "outputs": [
    {
     "data": {
      "text/plain": [
       "0    2698\n",
       "1     302\n",
       "Name: toxic, dtype: int64"
      ]
     },
     "metadata": {},
     "output_type": "display_data"
    },
    {
     "data": {
      "text/plain": [
       "0    2971\n",
       "1      29\n",
       "Name: severe_toxic, dtype: int64"
      ]
     },
     "metadata": {},
     "output_type": "display_data"
    },
    {
     "data": {
      "text/plain": [
       "0    2855\n",
       "1     145\n",
       "Name: obscene, dtype: int64"
      ]
     },
     "metadata": {},
     "output_type": "display_data"
    },
    {
     "data": {
      "text/plain": [
       "0    2991\n",
       "1       9\n",
       "Name: threat, dtype: int64"
      ]
     },
     "metadata": {},
     "output_type": "display_data"
    },
    {
     "data": {
      "text/plain": [
       "0    2858\n",
       "1     142\n",
       "Name: insult, dtype: int64"
      ]
     },
     "metadata": {},
     "output_type": "display_data"
    },
    {
     "data": {
      "text/plain": [
       "0    2985\n",
       "1      15\n",
       "Name: identity_hate, dtype: int64"
      ]
     },
     "metadata": {},
     "output_type": "display_data"
    }
   ],
   "source": [
    "yValid.head()\n",
    "\n",
    "display(yValid.toxic.value_counts())\n",
    "display(yValid.severe_toxic.value_counts())\n",
    "display(yValid.obscene.value_counts())\n",
    "display(yValid.threat.value_counts())\n",
    "display(yValid.insult.value_counts())\n",
    "display(yValid.identity_hate.value_counts())"
   ]
  },
  {
   "cell_type": "code",
   "execution_count": 11,
   "metadata": {
    "collapsed": true
   },
   "outputs": [],
   "source": [
    "xTrainTfv = tfv.transform(xTrain)\n",
    "xValidTfv = tfv.transform(xValid)\n",
    "xTestTfv  = tfv.transform(test.comment_text.values)\n",
    "\n",
    "#xTrainCfv = cfv.transform(xTrain)\n",
    "#xValidCfv = cfv.transform(xValid)\n",
    "#xTestCfv  = cfv.transform(test.comment_text.values)\n",
    "\n",
    "#xTrainStack = hstack([xTrainTfv, xTrainCfv])\n",
    "#xValidStack = hstack([xValidTfv, xValidCfv])\n",
    "#xTestStack  = hstack([xTestTfv, xTestCfv])"
   ]
  },
  {
   "cell_type": "code",
   "execution_count": 12,
   "metadata": {},
   "outputs": [
    {
     "data": {
      "text/plain": [
       "(10000, 20000)"
      ]
     },
     "execution_count": 12,
     "metadata": {},
     "output_type": "execute_result"
    }
   ],
   "source": [
    "xTestTfv.shape\n"
   ]
  },
  {
   "cell_type": "code",
   "execution_count": 13,
   "metadata": {},
   "outputs": [
    {
     "name": "stdout",
     "output_type": "stream",
     "text": [
      "Fitting ... toxic\n",
      "Fitting ... severe_toxic\n",
      "Fitting ... obscene\n",
      "Fitting ... threat\n",
      "Fitting ... insult\n",
      "Fitting ... identity_hate\n",
      "Logistic AUC : 0.967166154471\n"
     ]
    }
   ],
   "source": [
    "# Fitting a simple Logistic Regression on TFIDF\n",
    "# --- Parameter Tuning ---\n",
    "# --- Added Class Weight : Score Improved ---\n",
    "# --- Changed Penalty to l1 : No improvement ---\n",
    "# --- CV : No improvement ---\n",
    "\n",
    "predValid = pd.DataFrame()\n",
    "predTest = pd.DataFrame()\n",
    "predTest.loc[:, 'id'] = sample['id']\n",
    "clf = LogisticRegression(C= 1, class_weight='balanced')\n",
    "#cList = [0.001, 0.01, 0.1, 1, 10, 100] \n",
    "#clf = LogisticRegressionCV(Cs=cList, class_weight='balanced')\n",
    "#model = GridSearchCV(estimator=clf, param_grid=param_grid,\n",
    "#                                 verbose=10, n_jobs=-1, iid=True, refit=True, cv=2)\n",
    "for col in columnList:\n",
    "    clf.fit(xTrainTfv, yTrain[col])\n",
    "    #clf.fit(xTrainStack, yTrain[col])\n",
    "    print('Fitting ...', col)\n",
    "    #print('Optimal Value of C ...:', clf.C_)\n",
    "    #print(clf.predict_proba(xTrainTfv)[:,1])\n",
    "    predValid.loc[:, col] = clf.predict_proba(xValidTfv)[:,1]\n",
    "    predTest.loc[:, col] = clf.predict_proba(xTestTfv)[:,1]\n",
    "    #print(predValid.shape, predTest.shape)\n",
    "\n",
    "logLossValid = []\n",
    "for col in columnList:\n",
    "    ll = customAuc(yValid[col], predValid[col])\n",
    "    logLossValid.append(ll)\n",
    "\n",
    "\n",
    "print('Logistic AUC :', np.mean(logLossValid))"
   ]
  },
  {
   "cell_type": "code",
   "execution_count": null,
   "metadata": {
    "collapsed": true
   },
   "outputs": [],
   "source": []
  },
  {
   "cell_type": "code",
   "execution_count": null,
   "metadata": {
    "collapsed": true
   },
   "outputs": [],
   "source": []
  }
 ],
 "metadata": {
  "kernelspec": {
   "display_name": "Python 3",
   "language": "python",
   "name": "python3"
  },
  "language_info": {
   "codemirror_mode": {
    "name": "ipython",
    "version": 3
   },
   "file_extension": ".py",
   "mimetype": "text/x-python",
   "name": "python",
   "nbconvert_exporter": "python",
   "pygments_lexer": "ipython3",
   "version": "3.6.2"
  }
 },
 "nbformat": 4,
 "nbformat_minor": 2
}
